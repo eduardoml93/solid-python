{
  "nbformat": 4,
  "nbformat_minor": 0,
  "metadata": {
    "colab": {
      "provenance": []
    },
    "kernelspec": {
      "name": "python3",
      "display_name": "Python 3"
    },
    "language_info": {
      "name": "python"
    }
  },
  "cells": [
    {
      "cell_type": "markdown",
      "source": [
        "SOLID é um acrônimo para cinco princípios de design orientado a objetos que ajudam a criar software de alta qualidade, mantendo-o fácil de manter e estender. No contexto da programação Python, esses princípios são aplicados para melhorar o design orientado a objetos. Aqui está uma explicação de cada princípio:\n",
        "\n",
        "- Single Responsibility Principle (SRP): Uma classe deve ter apenas um motivo para mudar, ou seja, deve ter apenas uma responsabilidade. Isso significa que cada classe deve fazer uma coisa e fazê-la bem.\n",
        "- Open/Closed Principle (OCP): As classes devem estar abertas para extensão, mas fechadas para modificação. Isso significa que você deve ser capaz de adicionar novas funcionalidades a uma classe sem alterar seu código existente.\n",
        "- Liskov Substitution Principle (LSP): As subclasses devem ser substituíveis por suas superclasses, o que significa que você deve ser capaz de usar uma instância de uma subclasse no lugar de uma instância da superclasse sem afetar o comportamento do programa.\n",
        "- Interface Segregation Principle (ISP): As interfaces devem ser pequenas e específicas, o que significa que uma classe não deve ter que implementar métodos que não usa. Isso ajuda a manter as classes coesas e com responsabilidades claras.\n",
        "- Dependency Inversion Principle (DIP): As classes de alto nível não devem depender de classes de baixo nível. Ambos devem depender de abstrações. Além disso, as abstrações não devem depender de detalhes. Os detalhes devem depender de abstrações.\n",
        "\n",
        "Esses princípios ajudam a criar código que é mais fácil de entender, manter e estender, o que é essencial para o desenvolvimento de software de qualidade. Eles são aplicáveis em Python, assim como em outras linguagens de programação orientadas a objetos."
      ],
      "metadata": {
        "id": "A9YNgd54UutB"
      }
    },
    {
      "cell_type": "markdown",
      "source": [
        "##Single Responsibility Principle (SRP):\n",
        "\n",
        "Vamos considerar um sistema de gerenciamento de pedidos em uma loja. Neste sistema, temos três responsabilidades principais:\n",
        "\n",
        "Gerenciamento de pedidos\n",
        "Gerenciamento de clientes\n",
        "Gerenciamento de produtos\n",
        "Aqui está um exemplo de como podemos aplicar o SRP a esse sistema:\n",
        "\n",
        "Neste exemplo, cada classe tem uma única responsabilidade:\n",
        "\n",
        "- A classe `Order` é responsável por representar um pedido.\n",
        "- A classe `Customer` é responsável por representar um cliente.\n",
        "- A classe `Product` é responsável por representar um produto.\n",
        "- A classe `OrderManager` é responsável por gerenciar pedidos.\n",
        "- A classe `CustomerManager` é responsável por gerenciar clientes.\n",
        "- A classe `ProductManager` é responsável por gerenciar produtos.\n",
        "\n",
        "Cada classe tem apenas uma razão para mudar. Por exemplo, se quisermos alterar a forma como os pedidos são salvos no banco de dados, só precisamos alterar a classe OrderManager. Se quisermos adicionar um novo campo aos clientes, só precisamos alterar a classe Customer. Isso torna o código mais fácil de manter e entender."
      ],
      "metadata": {
        "id": "yftOanNWVMCt"
      }
    },
    {
      "cell_type": "code",
      "execution_count": null,
      "metadata": {
        "id": "3yC0oQaBUjMx"
      },
      "outputs": [],
      "source": [
        "\n",
        "# Classe para representar um Pedido\n",
        "class Order:\n",
        "    def __init__(self, customer_id, product_id, quantity):\n",
        "        self.customer_id = customer_id\n",
        "        self.product_id = product_id\n",
        "        self.quantity = quantity\n",
        "\n",
        "# Classe para representar um Cliente\n",
        "class Customer:\n",
        "    def __init__(self, id, name, email):\n",
        "        self.id = id\n",
        "        self.name = name\n",
        "        self.email = email\n",
        "\n",
        "# Classe para representar um Produto\n",
        "class Product:\n",
        "    def __init__(self, id, name, price):\n",
        "        self.id = id\n",
        "        self.name = name\n",
        "        self.price = price\n",
        "\n",
        "# Classe para gerenciar pedidos\n",
        "class OrderManager:\n",
        "    def create_order(self, customer_id, product_id, quantity):\n",
        "        order = Order(customer_id, product_id, quantity)\n",
        "        # Aqui podemos adicionar lógica para salvar o pedido no banco de dados\n",
        "        return order\n",
        "\n",
        "    def update_order(self, order_id, customer_id, product_id, quantity):\n",
        "        # Aqui podemos adicionar lógica para atualizar o pedido no banco de dados\n",
        "        pass\n",
        "\n",
        "# Classe para gerenciar clientes\n",
        "class CustomerManager:\n",
        "    def create_customer(self, name, email):\n",
        "        customer = Customer(len(self.get_all_customers()), name, email)\n",
        "        # Aqui podemos adicionar lógica para salvar o cliente no banco de dados\n",
        "        return customer\n",
        "\n",
        "    def get_all_customers(self):\n",
        "        # Aqui podemos adicionar lógica para buscar todos os clientes do banco de dados\n",
        "        pass\n",
        "\n",
        "# Classe para gerenciar produtos\n",
        "class ProductManager:\n",
        "    def create_product(self, name, price):\n",
        "        product = Product(len(self.get_all_products()), name, price)\n",
        "        # Aqui podemos adicionar lógica para salvar o produto no banco de dados\n",
        "        return product\n",
        "\n",
        "    def get_all_products(self):\n",
        "        # Aqui podemos adicionar lógica para buscar todos os produtos do banco de dados\n",
        "        pass\n"
      ]
    },
    {
      "cell_type": "markdown",
      "source": [
        "## Open/Closed Principle (OCP): O exemplo abaixo demonstra como uma classe pode ser estendida sem modificar a classe original, seguindo o OCP.\n",
        "\n",
        "Neste exemplo, a classe `PaymentProcessor` é uma interface abstrata que define um método process_payment. As classes `DebitPaymentProcessor` e `CreditPaymentProcessor` são implementações concretas dessa interface. A classe `OrderProcessor` usa essas implementações para processar pagamentos.\n",
        "\n",
        "Se quisermos adicionar um novo tipo de pagamento, como \"boleto bancário\", podemos simplesmente criar uma nova classe que implementa a interface PaymentProcessor e adicionar uma nova entrada ao dicionário processors na classe OrderProcessor. Não precisamos modificar o código existente na classe OrderProcessor ou nas classes de processamento de pagamento existentes. Isso é exatamente o que o OCP quer dizer: as classes devem ser \"abertas para extensão, mas fechadas para modificação\"."
      ],
      "metadata": {
        "id": "xHS01isvVPFt"
      }
    },
    {
      "cell_type": "code",
      "source": [
        "# Classe abstrata de Processador de Pagamento\n",
        "from abc import ABC, abstractmethod\n",
        "\n",
        "class PaymentProcessor(ABC):\n",
        "    @abstractmethod\n",
        "    def process_payment(self, order):\n",
        "        pass\n",
        "\n",
        "# Classe DebitPaymentProcessor que estende PaymentProcessor\n",
        "class DebitPaymentProcessor(PaymentProcessor):\n",
        "    def process_payment(self, order):\n",
        "        # Implementação do pagamento com débito\n",
        "        print(f\"Processando pagamento com débito para o pedido {order.id}\")\n",
        "\n",
        "# Classe CreditPaymentProcessor que estende PaymentProcessor\n",
        "class CreditPaymentProcessor(PaymentProcessor):\n",
        "    def process_payment(self, order):\n",
        "        # Implementação do pagamento com crédito\n",
        "        print(f\"Processando pagamento com crédito para o pedido {order.id}\")\n",
        "\n",
        "# Classe Order que representa um pedido\n",
        "class Order:\n",
        "    def __init__(self, id, payment_type):\n",
        "        self.id = id\n",
        "        self.payment_type = payment_type\n",
        "\n",
        "# Classe OrderProcessor que usa PaymentProcessor para processar pagamentos\n",
        "class OrderProcessor:\n",
        "    def __init__(self):\n",
        "        self.processors = {\n",
        "            'debit': DebitPaymentProcessor(),\n",
        "            'credit': CreditPaymentProcessor()\n",
        "        }\n",
        "\n",
        "    def process_order(self, order):\n",
        "        payment_processor = self.processors[order.payment_type]\n",
        "        payment_processor.process_payment(order)\n",
        "\n",
        "# Criação de um pedido e processamento\n",
        "order = Order(1, 'debit')\n",
        "processor = OrderProcessor()\n",
        "processor.process_order(order)  # Isso imprimirá \"Processando pagamento com débito para o pedido  1\"\n",
        "\n"
      ],
      "metadata": {
        "colab": {
          "base_uri": "https://localhost:8080/"
        },
        "id": "kQY4fS_OVJ0H",
        "outputId": "432f6259-d7ed-41f3-c32a-1961439b3f48"
      },
      "execution_count": 4,
      "outputs": [
        {
          "output_type": "stream",
          "name": "stdout",
          "text": [
            "Processando pagamento com débito para o pedido 1\n"
          ]
        }
      ]
    },
    {
      "cell_type": "markdown",
      "source": [
        "##Liskov Substitution Principle (LSP): O exemplo a seguir mostra como uma subclasse pode ser substituída por sua superclasse sem alterar o comportamento do programa.\n",
        "\n",
        "Neste exemplo, a classe `Order` é uma interface abstrata que define um método `total`. As classes `SaleOrder` e `ReturnOrder` são implementações concretas dessa interface. A função `calculate_total` pode ser usada com qualquer objeto que seja uma instância de `Order`, seja um `SaleOrder` ou um `ReturnOrder`.\n",
        "\n",
        "Isso demonstra o LSP porque podemos substituir qualquer instância de `Order` por qualquer uma de suas subclasses (`SaleOrder` ou `ReturnOrder`) sem afetar o comportamento do programa. A função `calculate_total` ainda funcionará corretamente, independentemente do tipo de pedido que ela recebe.\n"
      ],
      "metadata": {
        "id": "KfzCJcTxVYmq"
      }
    },
    {
      "cell_type": "code",
      "source": [
        "from abc import ABC, abstractmethod\n",
        "\n",
        "# Classe abstrata Order que representa um pedido\n",
        "class Order(ABC):\n",
        "    @abstractmethod\n",
        "    def total(self):\n",
        "        pass\n",
        "\n",
        "# Classe SaleOrder que representa um pedido de venda\n",
        "class SaleOrder(Order):\n",
        "    def __init__(self, items):\n",
        "        self.items = items\n",
        "\n",
        "    def total(self):\n",
        "        return sum(item.price for item in self.items)\n",
        "\n",
        "# Classe ReturnOrder que representa um pedido de devolução\n",
        "class ReturnOrder(Order):\n",
        "    def __init__(self, items):\n",
        "        self.items = items\n",
        "\n",
        "    def total(self):\n",
        "        return -sum(item.price for item in self.items)\n",
        "\n",
        "# Classe Item que representa um item em um pedido\n",
        "class Item:\n",
        "    def __init__(self, price):\n",
        "        self.price = price\n",
        "\n",
        "# Função que calcula o total de um pedido\n",
        "def calculate_total(order: Order):\n",
        "    return order.total()\n",
        "\n",
        "# Criação de um pedido de venda e um pedido de devolução\n",
        "sale_order = SaleOrder([Item(10), Item(20)])\n",
        "return_order = ReturnOrder([Item(15)])\n",
        "\n",
        "# A função calculate_total pode ser usada com ambos os tipos de pedidos\n",
        "print(calculate_total(sale_order))  # Isso imprimirá  30\n",
        "print(calculate_total(return_order))  # Isso imprimirá -15\n",
        "\n"
      ],
      "metadata": {
        "colab": {
          "base_uri": "https://localhost:8080/"
        },
        "id": "MpXrwJyWVZBT",
        "outputId": "a8d4ebcc-5927-4324-e813-f1282914fa21"
      },
      "execution_count": 3,
      "outputs": [
        {
          "output_type": "stream",
          "name": "stdout",
          "text": [
            "30\n",
            "-15\n"
          ]
        }
      ]
    },
    {
      "cell_type": "markdown",
      "source": [
        "##Interface Segregation Principle (ISP): O exemplo a seguir mostra como separar interfaces para que as classes não precisem implementar métodos que não usam.\n",
        "\n",
        "Neste exemplo, temos duas interfaces: `ISaleOrder` e `IReturnOrder`. Cada uma delas define um método `total`. As classes `SaleOrder` e `ReturnOrder` implementam essas interfaces e fornecem a implementação do método `total`.\n",
        "\n",
        "As funções `calculate_sale_total` e `calculate_return_total` podem ser usadas com qualquer objeto que implemente a interface correspondente (`ISaleOrder` ou `IReturnOrder`). Isso demonstra o ISP porque cada classe não é forçada a implementar métodos que não usa.\n"
      ],
      "metadata": {
        "id": "TNDuKKJgVkXj"
      }
    },
    {
      "cell_type": "code",
      "source": [
        "from abc import ABC, abstractmethod\n",
        "\n",
        "# Interface para pedidos de venda\n",
        "class ISaleOrder(ABC):\n",
        "    @abstractmethod\n",
        "    def total(self):\n",
        "        pass\n",
        "\n",
        "# Interface para pedidos de devolução\n",
        "class IReturnOrder(ABC):\n",
        "    @abstractmethod\n",
        "    def total(self):\n",
        "        pass\n",
        "\n",
        "# Classe SaleOrder que implementa a interface ISaleOrder\n",
        "class SaleOrder(ISaleOrder):\n",
        "    def __init__(self, items):\n",
        "        self.items = items\n",
        "\n",
        "    def total(self):\n",
        "        return sum(item.price for item in self.items)\n",
        "\n",
        "# Classe ReturnOrder que implementa a interface IReturnOrder\n",
        "class ReturnOrder(IReturnOrder):\n",
        "    def __init__(self, items):\n",
        "        self.items = items\n",
        "\n",
        "    def total(self):\n",
        "        return -sum(item.price for item in self.items)\n",
        "\n",
        "# Classe Item que representa um item em um pedido\n",
        "class Item:\n",
        "    def __init__(self, price):\n",
        "        self.price = price\n",
        "\n",
        "# Função que calcula o total de um pedido de venda\n",
        "def calculate_sale_total(order: ISaleOrder):\n",
        "    return order.total()\n",
        "\n",
        "# Função que calcula o total de um pedido de devolução\n",
        "def calculate_return_total(order: IReturnOrder):\n",
        "    return order.total()\n",
        "\n",
        "# Criação de um pedido de venda e um pedido de devolução\n",
        "sale_order = SaleOrder([Item(10), Item(20)])\n",
        "return_order = ReturnOrder([Item(15)])\n",
        "\n",
        "# As funções calculate_sale_total e calculate_return_total podem ser usadas com as implementações concretas das interfaces\n",
        "print(calculate_sale_total(sale_order))  # Isso imprimirá   30\n",
        "print(calculate_return_total(return_order))  # Isso imprimirá -15\n",
        "\n"
      ],
      "metadata": {
        "colab": {
          "base_uri": "https://localhost:8080/"
        },
        "id": "wk4Qj8sNVlEJ",
        "outputId": "8bed6e40-2534-4801-e814-903cb5d8447c"
      },
      "execution_count": 2,
      "outputs": [
        {
          "output_type": "stream",
          "name": "stdout",
          "text": [
            "30\n",
            "-15\n"
          ]
        }
      ]
    },
    {
      "cell_type": "markdown",
      "source": [
        "##Dependency Inversion Principle (DIP): O exemplo a seguir mostra como as classes de alto nível não devem depender de classes de baixo nível, mas sim de abstrações.\n",
        "\n",
        "Neste exemplo, a classe `PaymentProcessor` é uma interface abstrata que define um método `process_payment`. As classes `CreditCardPaymentProcessor` e `BankSlipPaymentProcessor` são implementações concretas dessa interface. A classe `OrderProcessor` usa essas implementações para processar pagamentos.\n",
        "\n",
        "Se quisermos adicionar um novo tipo de pagamento, como \"paypal\", podemos simplesmente criar uma nova classe que implementa a interface `PaymentProcessor` e adicionar uma nova entrada ao dicionário `processors` na classe `OrderProcessor`. Não precisamos modificar o código existente na classe `OrderProcessor` ou nas classes de processamento de pagamento existentes. Isso é exatamente o que o DIP quer dizer: as classes de alto nível não devem depender de classes de baixo nível, mas sim de abstrações.\n"
      ],
      "metadata": {
        "id": "HVnXjnXNVrnJ"
      }
    },
    {
      "cell_type": "code",
      "source": [
        "from abc import ABC, abstractmethod\n",
        "\n",
        "# Interface abstrata de Processador de Pagamento\n",
        "class PaymentProcessor(ABC):\n",
        "    @abstractmethod\n",
        "    def process_payment(self, order):\n",
        "        pass\n",
        "\n",
        "# Classe CreditCardPaymentProcessor que implementa a interface PaymentProcessor\n",
        "class CreditCardPaymentProcessor(PaymentProcessor):\n",
        "    def process_payment(self, order):\n",
        "        # Implementação do pagamento com cartão de crédito\n",
        "        print(f\"Processando pagamento com cartão de crédito para o pedido {order.id}\")\n",
        "\n",
        "# Classe BankSlipPaymentProcessor que implementa a interface PaymentProcessor\n",
        "class BankSlipPaymentProcessor(PaymentProcessor):\n",
        "    def process_payment(self, order):\n",
        "        # Implementação do pagamento com boleto bancário\n",
        "        print(f\"Processando pagamento com boleto bancário para o pedido {order.id}\")\n",
        "\n",
        "# Classe Order que representa um pedido\n",
        "class Order:\n",
        "    def __init__(self, id, payment_type):\n",
        "        self.id = id\n",
        "        self.payment_type = payment_type\n",
        "\n",
        "# Classe OrderProcessor que usa PaymentProcessor para processar pagamentos\n",
        "class OrderProcessor:\n",
        "    def __init__(self):\n",
        "        self.processors = {\n",
        "            'credit_card': CreditCardPaymentProcessor(),\n",
        "            'bank_slip': BankSlipPaymentProcessor()\n",
        "        }\n",
        "\n",
        "    def process_order(self, order):\n",
        "        payment_processor = self.processors[order.payment_type]\n",
        "        payment_processor.process_payment(order)\n",
        "\n",
        "# Criação de um pedido e processamento\n",
        "order = Order(1, 'credit_card')\n",
        "processor = OrderProcessor()\n",
        "processor.process_order(order)  # Isso imprimirá \"Processando pagamento com cartão de crédito para o pedido  1\"\n",
        "\n"
      ],
      "metadata": {
        "colab": {
          "base_uri": "https://localhost:8080/"
        },
        "id": "urnseqCIVtGl",
        "outputId": "fa249b05-1dcc-4c63-e00f-b1d1fca5d52d"
      },
      "execution_count": 1,
      "outputs": [
        {
          "output_type": "stream",
          "name": "stdout",
          "text": [
            "Processando pagamento com cartão de crédito para o pedido 1\n"
          ]
        }
      ]
    },
    {
      "cell_type": "code",
      "source": [],
      "metadata": {
        "id": "wRpyb_TndBTq"
      },
      "execution_count": null,
      "outputs": []
    }
  ]
}